{
 "cells": [
  {
   "cell_type": "code",
   "execution_count": 1,
   "id": "4f02271e",
   "metadata": {},
   "outputs": [
    {
     "name": "stderr",
     "output_type": "stream",
     "text": [
      "E:\\Anaconda3\\lib\\site-packages\\scipy\\__init__.py:155: UserWarning: A NumPy version >=1.18.5 and <1.25.0 is required for this version of SciPy (detected version 1.26.4\n",
      "  warnings.warn(f\"A NumPy version >={np_minversion} and <{np_maxversion}\"\n"
     ]
    }
   ],
   "source": [
    "import tensorflow as tf\n",
    "from tensorflow.keras.models import Sequential\n",
    "from tensorflow.keras.layers import Dense\n",
    "from sklearn.model_selection import train_test_split\n",
    "from sklearn.preprocessing import LabelEncoder\n",
    "import pandas as pd\n",
    "# Download and load the dataset (replace 'your_data_path' with the actual path)\n",
    "data_path = 'letter-recognition.data'\n",
    "columns = ['letter'] + [f'feature_{i}' for i in range(16)]\n",
    "df = pd.read_csv(data_path, names=columns)\n",
    "# Assuming 'your_data_path' is the actual path to your data file\n",
    "# Preprocess the data\n",
    "label_encoder = LabelEncoder()\n",
    "df['target'] = label_encoder.fit_transform(df['letter'])\n",
    "X = df.drop(['letter', 'target'], axis=1)\n",
    "y = df['target']\n",
    "# Split the dataset\n",
    "X_train, X_test, y_train, y_test = train_test_split(X, y, test_size=0.2, random_state=42)"
   ]
  },
  {
   "cell_type": "code",
   "execution_count": 2,
   "id": "b3552ae3",
   "metadata": {},
   "outputs": [
    {
     "data": {
      "text/html": [
       "<div>\n",
       "<style scoped>\n",
       "    .dataframe tbody tr th:only-of-type {\n",
       "        vertical-align: middle;\n",
       "    }\n",
       "\n",
       "    .dataframe tbody tr th {\n",
       "        vertical-align: top;\n",
       "    }\n",
       "\n",
       "    .dataframe thead th {\n",
       "        text-align: right;\n",
       "    }\n",
       "</style>\n",
       "<table border=\"1\" class=\"dataframe\">\n",
       "  <thead>\n",
       "    <tr style=\"text-align: right;\">\n",
       "      <th></th>\n",
       "      <th>letter</th>\n",
       "      <th>feature_0</th>\n",
       "      <th>feature_1</th>\n",
       "      <th>feature_2</th>\n",
       "      <th>feature_3</th>\n",
       "      <th>feature_4</th>\n",
       "      <th>feature_5</th>\n",
       "      <th>feature_6</th>\n",
       "      <th>feature_7</th>\n",
       "      <th>feature_8</th>\n",
       "      <th>feature_9</th>\n",
       "      <th>feature_10</th>\n",
       "      <th>feature_11</th>\n",
       "      <th>feature_12</th>\n",
       "      <th>feature_13</th>\n",
       "      <th>feature_14</th>\n",
       "      <th>feature_15</th>\n",
       "      <th>target</th>\n",
       "    </tr>\n",
       "  </thead>\n",
       "  <tbody>\n",
       "    <tr>\n",
       "      <th>0</th>\n",
       "      <td>T</td>\n",
       "      <td>2</td>\n",
       "      <td>8</td>\n",
       "      <td>3</td>\n",
       "      <td>5</td>\n",
       "      <td>1</td>\n",
       "      <td>8</td>\n",
       "      <td>13</td>\n",
       "      <td>0</td>\n",
       "      <td>6</td>\n",
       "      <td>6</td>\n",
       "      <td>10</td>\n",
       "      <td>8</td>\n",
       "      <td>0</td>\n",
       "      <td>8</td>\n",
       "      <td>0</td>\n",
       "      <td>8</td>\n",
       "      <td>19</td>\n",
       "    </tr>\n",
       "  </tbody>\n",
       "</table>\n",
       "</div>"
      ],
      "text/plain": [
       "  letter  feature_0  feature_1  feature_2  feature_3  feature_4  feature_5  \\\n",
       "0      T          2          8          3          5          1          8   \n",
       "\n",
       "   feature_6  feature_7  feature_8  feature_9  feature_10  feature_11  \\\n",
       "0         13          0          6          6          10           8   \n",
       "\n",
       "   feature_12  feature_13  feature_14  feature_15  target  \n",
       "0           0           8           0           8      19  "
      ]
     },
     "execution_count": 2,
     "metadata": {},
     "output_type": "execute_result"
    }
   ],
   "source": [
    "df.head(1)"
   ]
  },
  {
   "cell_type": "code",
   "execution_count": 3,
   "id": "486c1626",
   "metadata": {
    "scrolled": true
   },
   "outputs": [
    {
     "data": {
      "text/plain": [
       "feature_0      4\n",
       "feature_1      7\n",
       "feature_2      5\n",
       "feature_3      5\n",
       "feature_4      4\n",
       "feature_5      6\n",
       "feature_6      7\n",
       "feature_7      3\n",
       "feature_8      7\n",
       "feature_9     11\n",
       "feature_10     8\n",
       "feature_11     9\n",
       "feature_12     3\n",
       "feature_13     8\n",
       "feature_14     4\n",
       "feature_15     8\n",
       "Name: 5894, dtype: int64"
      ]
     },
     "execution_count": 3,
     "metadata": {},
     "output_type": "execute_result"
    }
   ],
   "source": [
    "X_train.iloc[0]"
   ]
  },
  {
   "cell_type": "code",
   "execution_count": 4,
   "id": "fc717362",
   "metadata": {},
   "outputs": [
    {
     "data": {
      "text/plain": [
       "letter        0\n",
       "feature_0     0\n",
       "feature_1     0\n",
       "feature_2     0\n",
       "feature_3     0\n",
       "feature_4     0\n",
       "feature_5     0\n",
       "feature_6     0\n",
       "feature_7     0\n",
       "feature_8     0\n",
       "feature_9     0\n",
       "feature_10    0\n",
       "feature_11    0\n",
       "feature_12    0\n",
       "feature_13    0\n",
       "feature_14    0\n",
       "feature_15    0\n",
       "target        0\n",
       "dtype: int64"
      ]
     },
     "execution_count": 4,
     "metadata": {},
     "output_type": "execute_result"
    }
   ],
   "source": [
    "df.isnull().sum()"
   ]
  },
  {
   "cell_type": "code",
   "execution_count": 5,
   "id": "74e83224",
   "metadata": {},
   "outputs": [
    {
     "name": "stderr",
     "output_type": "stream",
     "text": [
      "E:\\Anaconda3\\lib\\site-packages\\keras\\src\\layers\\core\\dense.py:85: UserWarning: Do not pass an `input_shape`/`input_dim` argument to a layer. When using Sequential models, prefer using an `Input(shape)` object as the first layer in the model instead.\n",
      "  super().__init__(activity_regularizer=activity_regularizer, **kwargs)\n"
     ]
    },
    {
     "name": "stdout",
     "output_type": "stream",
     "text": [
      "Epoch 1/10\n",
      "\u001b[1m500/500\u001b[0m \u001b[32m━━━━━━━━━━━━━━━━━━━━\u001b[0m\u001b[37m\u001b[0m \u001b[1m3s\u001b[0m 2ms/step - accuracy: 0.3562 - loss: 2.4228 - val_accuracy: 0.7330 - val_loss: 1.0190\n",
      "Epoch 2/10\n",
      "\u001b[1m500/500\u001b[0m \u001b[32m━━━━━━━━━━━━━━━━━━━━\u001b[0m\u001b[37m\u001b[0m \u001b[1m1s\u001b[0m 2ms/step - accuracy: 0.7175 - loss: 0.9954 - val_accuracy: 0.7705 - val_loss: 0.8020\n",
      "Epoch 3/10\n",
      "\u001b[1m500/500\u001b[0m \u001b[32m━━━━━━━━━━━━━━━━━━━━\u001b[0m\u001b[37m\u001b[0m \u001b[1m1s\u001b[0m 2ms/step - accuracy: 0.7721 - loss: 0.7900 - val_accuracy: 0.7893 - val_loss: 0.7068\n",
      "Epoch 4/10\n",
      "\u001b[1m500/500\u001b[0m \u001b[32m━━━━━━━━━━━━━━━━━━━━\u001b[0m\u001b[37m\u001b[0m \u001b[1m1s\u001b[0m 2ms/step - accuracy: 0.7964 - loss: 0.6792 - val_accuracy: 0.8280 - val_loss: 0.5895\n",
      "Epoch 5/10\n",
      "\u001b[1m500/500\u001b[0m \u001b[32m━━━━━━━━━━━━━━━━━━━━\u001b[0m\u001b[37m\u001b[0m \u001b[1m1s\u001b[0m 2ms/step - accuracy: 0.8243 - loss: 0.5703 - val_accuracy: 0.8390 - val_loss: 0.5274\n",
      "Epoch 6/10\n",
      "\u001b[1m500/500\u001b[0m \u001b[32m━━━━━━━━━━━━━━━━━━━━\u001b[0m\u001b[37m\u001b[0m \u001b[1m1s\u001b[0m 3ms/step - accuracy: 0.8483 - loss: 0.4892 - val_accuracy: 0.8645 - val_loss: 0.4578\n",
      "Epoch 7/10\n",
      "\u001b[1m500/500\u001b[0m \u001b[32m━━━━━━━━━━━━━━━━━━━━\u001b[0m\u001b[37m\u001b[0m \u001b[1m1s\u001b[0m 2ms/step - accuracy: 0.8661 - loss: 0.4373 - val_accuracy: 0.8790 - val_loss: 0.4039\n",
      "Epoch 8/10\n",
      "\u001b[1m500/500\u001b[0m \u001b[32m━━━━━━━━━━━━━━━━━━━━\u001b[0m\u001b[37m\u001b[0m \u001b[1m1s\u001b[0m 2ms/step - accuracy: 0.8818 - loss: 0.3777 - val_accuracy: 0.8813 - val_loss: 0.3842\n",
      "Epoch 9/10\n",
      "\u001b[1m500/500\u001b[0m \u001b[32m━━━━━━━━━━━━━━━━━━━━\u001b[0m\u001b[37m\u001b[0m \u001b[1m1s\u001b[0m 2ms/step - accuracy: 0.8945 - loss: 0.3468 - val_accuracy: 0.8963 - val_loss: 0.3429\n",
      "Epoch 10/10\n",
      "\u001b[1m500/500\u001b[0m \u001b[32m━━━━━━━━━━━━━━━━━━━━\u001b[0m\u001b[37m\u001b[0m \u001b[1m1s\u001b[0m 2ms/step - accuracy: 0.9009 - loss: 0.3246 - val_accuracy: 0.8813 - val_loss: 0.3765\n",
      "\u001b[1m125/125\u001b[0m \u001b[32m━━━━━━━━━━━━━━━━━━━━\u001b[0m\u001b[37m\u001b[0m \u001b[1m0s\u001b[0m 2ms/step - accuracy: 0.8805 - loss: 0.3782\n",
      "Test Accuracy: 0.8812500238418579\n"
     ]
    }
   ],
   "source": [
    "# Build the deep neural network model\n",
    "model = Sequential()\n",
    "model.add(Dense(128, activation='relu', input_shape=(16,)))\n",
    "model.add(Dense(64, activation='relu'))\n",
    "model.add(Dense(26, activation='softmax')) # 26 classes for letters\n",
    "# Compile the model\n",
    "model.compile(optimizer='adam', loss='sparse_categorical_crossentropy', metrics=['accuracy'])\n",
    "# Train the model\n",
    "model.fit(X_train, y_train, epochs=10, batch_size=32, validation_data=(X_test, y_test))\n",
    "# Evaluate the model\n",
    "test_loss, test_accuracy = model.evaluate(X_test, y_test)\n",
    "print(f'Test Accuracy: {test_accuracy}')"
   ]
  },
  {
   "cell_type": "code",
   "execution_count": 6,
   "id": "c57f65cf",
   "metadata": {},
   "outputs": [
    {
     "name": "stdout",
     "output_type": "stream",
     "text": [
      "\u001b[1m1/1\u001b[0m \u001b[32m━━━━━━━━━━━━━━━━━━━━\u001b[0m\u001b[37m\u001b[0m \u001b[1m0s\u001b[0m 98ms/step\n",
      "[[2.6230296e-06 4.7198139e-08 1.9730889e-07 5.7233602e-04 1.6536864e-10\n",
      "  1.8524571e-07 3.8790433e-09 2.0402662e-02 3.2816053e-10 1.3897377e-08\n",
      "  3.4305400e-03 1.0574992e-07 5.0938427e-01 4.6587342e-01 2.7312865e-07\n",
      "  1.5299405e-07 1.3072769e-12 9.8432014e-05 1.1864666e-10 2.2897918e-08\n",
      "  1.6769068e-04 1.7109185e-06 2.4299196e-05 4.1029834e-05 8.7870233e-10\n",
      "  1.5420923e-15]]\n",
      "The predicted class is: 12\n"
     ]
    }
   ],
   "source": [
    "# Given data\n",
    "import numpy as np\n",
    "new_data = np.array([5, 8, 6, 6, 3, 5, 8, 4, 6, 11, 7, 8, 9, 6, 3, 9]).reshape(1, -1)\n",
    "# Use the model to make predictions\n",
    "predictions = model.predict(new_data)\n",
    "print(predictions)\n",
    "# Display the predictions\n",
    "predicted_class = np.argmax(predictions)\n",
    "print(f'The predicted class is: {predicted_class}')"
   ]
  },
  {
   "cell_type": "code",
   "execution_count": 7,
   "id": "428bc17e",
   "metadata": {},
   "outputs": [
    {
     "name": "stdout",
     "output_type": "stream",
     "text": [
      "The predicted class is: 12, which corresponds to the letter: M\n"
     ]
    }
   ],
   "source": [
    "class_mapping = {\n",
    " 0: 'A', 1: 'B', 2: 'C', 3: 'D', 4: 'E', 5: 'F', 6: 'G', 7: 'H', 8: 'I', 9: 'J',\n",
    " 10: 'K', 11: 'L', 12: 'M', 13: 'N', 14: 'O', 15: 'P', 16: 'Q', 17: 'R', 18: 'S', 19: 'T',\n",
    " 20: 'U', 21: 'V', 22: 'W', 23: 'X', 24: 'Y', 25: 'Z'\n",
    "}\n",
    "# Display the predicted class using the mapping\n",
    "predicted_letter = class_mapping[predicted_class]\n",
    "print(f'The predicted class is: {predicted_class}, which corresponds to the letter: {predicted_letter}')"
   ]
  },
  {
   "cell_type": "code",
   "execution_count": 8,
   "id": "95899f69",
   "metadata": {},
   "outputs": [
    {
     "name": "stdout",
     "output_type": "stream",
     "text": [
      "Enter values for the 17 features separated by commas: 4,11,5,8,3,8,8,6,9,5,6,6,0,8,9,7\n",
      "\u001b[1m1/1\u001b[0m \u001b[32m━━━━━━━━━━━━━━━━━━━━\u001b[0m\u001b[37m\u001b[0m \u001b[1m0s\u001b[0m 25ms/step\n",
      "\n",
      "The predicted class is: 18 i.e. S\n"
     ]
    }
   ],
   "source": [
    "#dynamic \n",
    "#dummy = 4,11,5,8,3,8,8,6,9,5,6,6,0,8,9,7\n",
    "\n",
    "# Take input from the user\n",
    "user_input = input(\"Enter values for the 17 features separated by commas: \")\n",
    "user_input_list = [int(x) for x in user_input.split(',')]\n",
    "\n",
    "# Convert the user input to a NumPy array\n",
    "new_data = np.array(user_input_list).reshape(1, -1)\n",
    "\n",
    "# Use the model to make predictions\n",
    "predictions = model.predict(new_data)\n",
    "#print(predictions)\n",
    "# Display the predictions\n",
    "predicted_class = np.argmax(predictions)\n",
    "print(f'\\nThe predicted class is: {predicted_class} i.e. {class_mapping[predicted_class]}')"
   ]
  },
  {
   "cell_type": "code",
   "execution_count": null,
   "id": "05d96fcf",
   "metadata": {},
   "outputs": [
    {
     "name": "stdout",
     "output_type": "stream",
     "text": [
      "\u001b[1m1/1\u001b[0m \u001b[32m━━━━━━━━━━━━━━━━━━━━\u001b[0m\u001b[37m\u001b[0m \u001b[1m0s\u001b[0m 20ms/step\n",
      "\u001b[1m1/1\u001b[0m \u001b[32m━━━━━━━━━━━━━━━━━━━━\u001b[0m\u001b[37m\u001b[0m \u001b[1m1s\u001b[0m 1s/step   \n"
     ]
    }
   ],
   "source": [
    "import tkinter as tk\n",
    "from tkinter import messagebox\n",
    "import numpy as np\n",
    "\n",
    "# Function to handle button click\n",
    "def predict_letter():\n",
    "    # Get the name from the input field\n",
    "    input_data = entry.get()\n",
    "    \n",
    "    try:\n",
    "        new_data = np.array(list(map(int, input_data.split()))).reshape(1, -1)\n",
    "\n",
    "        # Use the model to make predictions\n",
    "        predictions = model.predict(new_data)\n",
    "\n",
    "        # Display the predictions\n",
    "        predicted_class = np.argmax(predictions)\n",
    "        predicted_letter = class_mapping.get(predicted_class, 'Unknown')\n",
    "\n",
    "         # Display predicted Letter\n",
    "        messagebox.showinfo(\"Prediction Result\", f\"The predicted letter is: {predicted_letter}\")\n",
    "\n",
    "    except ValueError:\n",
    "        messagebox.showerror(\"Error\", \"Invalid input data. Please enter space separated integers.\")\n",
    "\n",
    "#Display the predicted class using the mapping\n",
    "predicted_class = np.argmax(predictions)\n",
    "predicted_letter = class_mapping.get(predicted_class, 'Unknown')\n",
    "                        \n",
    "# Create the main window\n",
    "window = tk.Tk()\n",
    "window.title(\"Prediction App\")\n",
    "                        \n",
    "# Create a display label\n",
    "label = tk.Label(window, text=\"Enter the data\")\n",
    "label.pack(pady=10)\n",
    "\n",
    "# Create an input field\n",
    "entry = tk.Entry(window, width=30)\n",
    "entry.pack(pady=10)\n",
    "\n",
    "# Create a button\n",
    "button = tk.Button(window, text=\"Display Name and Predict\", command= predict_letter)\n",
    "button.pack(pady=10)\n",
    "\n",
    "\n",
    "# Run the Tkinter event loop\n",
    "window.mainloop()"
   ]
  },
  {
   "cell_type": "code",
   "execution_count": null,
   "id": "03088728",
   "metadata": {},
   "outputs": [],
   "source": []
  }
 ],
 "metadata": {
  "kernelspec": {
   "display_name": "Python 3 (ipykernel)",
   "language": "python",
   "name": "python3"
  },
  "language_info": {
   "codemirror_mode": {
    "name": "ipython",
    "version": 3
   },
   "file_extension": ".py",
   "mimetype": "text/x-python",
   "name": "python",
   "nbconvert_exporter": "python",
   "pygments_lexer": "ipython3",
   "version": "3.9.13"
  }
 },
 "nbformat": 4,
 "nbformat_minor": 5
}
